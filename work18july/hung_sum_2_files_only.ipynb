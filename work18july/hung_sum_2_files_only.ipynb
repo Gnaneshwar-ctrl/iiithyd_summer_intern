{
 "cells": [
  {
   "cell_type": "code",
   "execution_count": 2,
   "id": "19d1241b",
   "metadata": {},
   "outputs": [
    {
     "name": "stdout",
     "output_type": "stream",
     "text": [
      "447.10098717403315\n"
     ]
    }
   ],
   "source": [
    "import numpy as np\n",
    "from scipy.optimize import linear_sum_assignment as lsa\n",
    "def config_matrix_v2(n1,n2):\n",
    "    boxLength = 9.4\n",
    "    permu=np.zeros((1000,1000),dtype=float)\n",
    "    for i in range(1000):\n",
    "        dis = n1 - n2[i]\n",
    "        dis -= boxLength* np.rint(dis/boxLength)\n",
    "        permu[i]= np.linalg.norm(dis,axis=1)\n",
    "        \n",
    "    return permu\n",
    "n1 = np.loadtxt(\"./RemovedUnwantedLines/min_config.\"+str(0)+\".data\")[:,2:5]\n",
    "n2 = np.loadtxt(\"./RemovedUnwantedLines/min_config.\"+str(1)+\".data\")[:,2:5]\n",
    "permu = config_matrix_v2(n1,n2)\n",
    "row,col = lsa(permu)\n",
    "print(permu[row, col].sum())"
   ]
  },
  {
   "cell_type": "code",
   "execution_count": null,
   "id": "c8a60144",
   "metadata": {},
   "outputs": [
    {
     "name": "stdout",
     "output_type": "stream",
     "text": [
      "508.74360979497266\n"
     ]
    }
   ],
   "source": [
    "n1 = np.loadtxt(\"C:/Users/Mahesh/Desktop/RemovedUnwantedLines/min_config.\"+str(0)+\".data\")[:,2:5]\n",
    "n2 = np.loadtxt(\"C:/Users/Mahesh/Desktop/RemovedUnwantedLines/min_config.\"+str(2)+\".data\")[:,2:5]\n",
    "permu = config_matrix_v2(n1,n2)\n",
    "row,col = lsa(permu)\n",
    "print(permu[row, col].sum())"
   ]
  },
  {
   "cell_type": "code",
   "execution_count": 7,
   "id": "8e9a2815",
   "metadata": {},
   "outputs": [
    {
     "name": "stdout",
     "output_type": "stream",
     "text": [
      "Requirement already satisfied: numpy in /Users/gnaneshwarsampathirao/opt/anaconda3/lib/python3.9/site-packages (1.21.5)\n"
     ]
    }
   ],
   "source": [
    "! pip install numpy"
   ]
  },
  {
   "cell_type": "code",
   "execution_count": null,
   "id": "f03ba1bd",
   "metadata": {},
   "outputs": [],
   "source": []
  }
 ],
 "metadata": {
  "kernelspec": {
   "display_name": "Python 3.9.12 ('base')",
   "language": "python",
   "name": "python3"
  },
  "language_info": {
   "codemirror_mode": {
    "name": "ipython",
    "version": 3
   },
   "file_extension": ".py",
   "mimetype": "text/x-python",
   "name": "python",
   "nbconvert_exporter": "python",
   "pygments_lexer": "ipython3",
   "version": "3.9.12"
  },
  "vscode": {
   "interpreter": {
    "hash": "92e2e78241649d29982d1ff3f73c1ef494e379800a2b27b56ecac341afbf8504"
   }
  }
 },
 "nbformat": 4,
 "nbformat_minor": 5
}
