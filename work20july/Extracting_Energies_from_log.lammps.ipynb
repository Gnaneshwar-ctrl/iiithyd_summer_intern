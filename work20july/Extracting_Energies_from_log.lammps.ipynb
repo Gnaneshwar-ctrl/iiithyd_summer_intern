{
 "cells": [
  {
   "cell_type": "code",
   "execution_count": 9,
   "id": "828bffb0",
   "metadata": {},
   "outputs": [],
   "source": [
    "import numpy as np\n",
    "n1=np.loadtxt(\"C:/Users/Mahesh/Desktop/smooth_linear_better defined/log.lammps\",dtype='str',delimiter='\\n')\n",
    "energies=np.zeros((101,3),dtype=float)\n",
    "t=0\n",
    "for i in range(len(n1)):\n",
    "    if(n1[i]==\"  Energy initial, next-to-last, final = \"):\n",
    "        energies[t]=np.array([float(n1[i+1][8:24]),float(n1[i+1][28:43]), float(n1[i+1][48:63])])\n",
    "        t+=1\n",
    "\n",
    "del n1    \n",
    "np.savetxt(\"C:/Users/Mahesh/Desktop/smooth_linear_better defined/energy.txt\",energies)"
   ]
  },
  {
   "cell_type": "code",
   "execution_count": 6,
   "id": "dafbb34f",
   "metadata": {},
   "outputs": [
    {
     "name": "stdout",
     "output_type": "stream",
     "text": [
      "LAMMPS (3 Mar 2020)\n"
     ]
    }
   ],
   "source": [
    "print(n1[0])"
   ]
  },
  {
   "cell_type": "code",
   "execution_count": 48,
   "id": "bd5d229f",
   "metadata": {},
   "outputs": [
    {
     "name": "stdout",
     "output_type": "stream",
     "text": [
      "6.3406496643\n"
     ]
    }
   ],
   "source": [
    "print(energies[9][2])"
   ]
  },
  {
   "cell_type": "code",
   "execution_count": 49,
   "id": "f89ae1ca",
   "metadata": {},
   "outputs": [
    {
     "name": "stdout",
     "output_type": "stream",
     "text": [
      "[6.34053271 6.34053271]\n"
     ]
    }
   ],
   "source": [
    "print(energies[34:36,2])"
   ]
  },
  {
   "cell_type": "code",
   "execution_count": 51,
   "id": "300b10dc",
   "metadata": {},
   "outputs": [],
   "source": [
    "n=np.array([ 1,  9, 34, 47, 48, 53, 54, 55, 56, 59, 63, 66, 70, 72, 78, 81, 82, 86, 91, 93, 94], dtype=int)"
   ]
  },
  {
   "cell_type": "code",
   "execution_count": 62,
   "id": "63cf5d9b",
   "metadata": {},
   "outputs": [
    {
     "name": "stdout",
     "output_type": "stream",
     "text": [
      "[0.0000000e+00 0.0000000e+00 0.0000000e+00 0.0000000e+00 0.0000000e+00\n",
      " 0.0000000e+00 0.0000000e+00 0.0000000e+00 0.0000000e+00 0.0000000e+00\n",
      " 0.0000000e+00 0.0000000e+00 0.0000000e+00 0.0000000e+00 0.0000000e+00\n",
      " 0.0000000e+00 0.0000000e+00 7.1603340e-05 0.0000000e+00 2.7958655e-04\n",
      " 0.0000000e+00]\n"
     ]
    }
   ],
   "source": [
    "print(energies[n+1,2]-energies[n,2])"
   ]
  },
  {
   "cell_type": "code",
   "execution_count": 59,
   "id": "01871388",
   "metadata": {},
   "outputs": [
    {
     "name": "stdout",
     "output_type": "stream",
     "text": [
      "86\n"
     ]
    }
   ],
   "source": [
    "print(n[17])"
   ]
  },
  {
   "cell_type": "code",
   "execution_count": 60,
   "id": "e08c3ec9",
   "metadata": {},
   "outputs": [
    {
     "name": "stdout",
     "output_type": "stream",
     "text": [
      "(array([17, 19], dtype=int64),)\n"
     ]
    }
   ],
   "source": [
    "print(np.where((energies[n,2]-energies[n+1,2])!=0))"
   ]
  },
  {
   "cell_type": "code",
   "execution_count": null,
   "id": "bc68d972",
   "metadata": {},
   "outputs": [],
   "source": []
  }
 ],
 "metadata": {
  "kernelspec": {
   "display_name": "Python 3 (ipykernel)",
   "language": "python",
   "name": "python3"
  },
  "language_info": {
   "codemirror_mode": {
    "name": "ipython",
    "version": 3
   },
   "file_extension": ".py",
   "mimetype": "text/x-python",
   "name": "python",
   "nbconvert_exporter": "python",
   "pygments_lexer": "ipython3",
   "version": "3.9.12"
  }
 },
 "nbformat": 4,
 "nbformat_minor": 5
}
